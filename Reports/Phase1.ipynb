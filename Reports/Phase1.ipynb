{
  "nbformat": 4,
  "nbformat_minor": 0,
  "metadata": {
    "colab": {
      "provenance": [],
      "include_colab_link": true
    },
    "kernelspec": {
      "name": "python3",
      "display_name": "Python 3"
    },
    "language_info": {
      "name": "python"
    }
  },
  "cells": [
    {
      "cell_type": "markdown",
      "metadata": {
        "id": "view-in-github",
        "colab_type": "text"
      },
      "source": [
        "<a href=\"https://colab.research.google.com/github/shahodi011/IT326-Project/blob/main/Phase1.ipynb\" target=\"_parent\"><img src=\"https://colab.research.google.com/assets/colab-badge.svg\" alt=\"Open In Colab\"/></a>"
      ]
    },
    {
      "cell_type": "markdown",
      "source": [
        "# Phase 1\n",
        "\n",
        "# Project Goal\n",
        "\n",
        "The goal of this project is to apply data mining techniques to classify patients by Alzheimer’s disease stage ,We aim to use clustering to group patients with similar traits and uncover hidden patterns.\n",
        "\n",
        "# Dataset Source\n",
        "The dataset was obtained from Kaggle:  \n",
        "[Alzheimer’s Disease Dataset](https://www.kaggle.com/datasets/rabieelkharoua/alzheimers-disease-dataset)  \n",
        "\n",
        "# Dataset Description\n",
        "\n",
        "to retrieve the dataset info, we need to import it as follows :\n"
      ],
      "metadata": {
        "id": "NaSdo6p8I_uA"
      }
    },
    {
      "cell_type": "code",
      "source": [
        "import pandas as pd\n",
        "df = pd.read_csv(\"alzheimers_disease_data.csv\")\n"
      ],
      "metadata": {
        "id": "F1u5TRMzJQuw"
      },
      "execution_count": 43,
      "outputs": []
    },
    {
      "cell_type": "markdown",
      "source": [
        "Now we can easily obtain the dataset info\n",
        "\n",
        "Number and data types of attributes :"
      ],
      "metadata": {
        "id": "vGBKuYw8JU8l"
      }
    },
    {
      "cell_type": "code",
      "source": [
        "attribute_info = pd.DataFrame({\n",
        "    'NameOfAttribute' : df.columns,\n",
        "    'DataType' : df.dtypes.values\n",
        "})\n",
        "print(f\"Attributes with their data types: \\n\")\n",
        "print(attribute_info, \"\\n\")\n",
        "\n",
        "print(\"Number of attributes:\", len(df.columns), \"\\n\")"
      ],
      "metadata": {
        "colab": {
          "base_uri": "https://localhost:8080/"
        },
        "id": "3j8En0yhKPZP",
        "outputId": "0fecbba2-ea41-4206-9a70-f9d7ad039a6d"
      },
      "execution_count": 44,
      "outputs": [
        {
          "output_type": "stream",
          "name": "stdout",
          "text": [
            "Attributes with their data types: \n",
            "\n",
            "              NameOfAttribute DataType\n",
            "0                   PatientID    int64\n",
            "1                         Age    int64\n",
            "2                      Gender    int64\n",
            "3                   Ethnicity    int64\n",
            "4              EducationLevel    int64\n",
            "5                         BMI  float64\n",
            "6                     Smoking    int64\n",
            "7          AlcoholConsumption  float64\n",
            "8            PhysicalActivity  float64\n",
            "9                 DietQuality  float64\n",
            "10               SleepQuality  float64\n",
            "11    FamilyHistoryAlzheimers    int64\n",
            "12      CardiovascularDisease    int64\n",
            "13                   Diabetes    int64\n",
            "14                 Depression    int64\n",
            "15                 HeadInjury    int64\n",
            "16               Hypertension    int64\n",
            "17                 SystolicBP    int64\n",
            "18                DiastolicBP    int64\n",
            "19           CholesterolTotal  float64\n",
            "20             CholesterolLDL  float64\n",
            "21             CholesterolHDL  float64\n",
            "22   CholesterolTriglycerides  float64\n",
            "23                       MMSE  float64\n",
            "24       FunctionalAssessment  float64\n",
            "25           MemoryComplaints    int64\n",
            "26         BehavioralProblems    int64\n",
            "27                        ADL  float64\n",
            "28                  Confusion    int64\n",
            "29             Disorientation    int64\n",
            "30         PersonalityChanges    int64\n",
            "31  DifficultyCompletingTasks    int64\n",
            "32              Forgetfulness    int64\n",
            "33                  Diagnosis    int64\n",
            "34             DoctorInCharge   object \n",
            "\n",
            "Number of attributes: 35 \n",
            "\n"
          ]
        }
      ]
    },
    {
      "cell_type": "markdown",
      "source": [
        "Number of objects :"
      ],
      "metadata": {
        "id": "lacEuaxfKRyc"
      }
    },
    {
      "cell_type": "code",
      "source": [
        "print(\"Number of objects: \", len(df),\"\\n\")"
      ],
      "metadata": {
        "colab": {
          "base_uri": "https://localhost:8080/"
        },
        "id": "lEddGmxLKU4T",
        "outputId": "ef5caee4-cbce-494c-d818-076d88fed3ea"
      },
      "execution_count": 45,
      "outputs": [
        {
          "output_type": "stream",
          "name": "stdout",
          "text": [
            "Number of objects:  2149 \n",
            "\n"
          ]
        }
      ]
    },
    {
      "cell_type": "markdown",
      "source": [
        "Class attribute information"
      ],
      "metadata": {
        "id": "50GehioEKX3L"
      }
    },
    {
      "cell_type": "code",
      "source": [
        "class_col = \"Diagnosis\"\n",
        "print(\"Class attribute name: \", class_col, \"\\n\")"
      ],
      "metadata": {
        "colab": {
          "base_uri": "https://localhost:8080/"
        },
        "id": "82e1MI1JKfjA",
        "outputId": "fb2696f6-93d7-4747-cbad-9dd38ecb9b5d"
      },
      "execution_count": 46,
      "outputs": [
        {
          "output_type": "stream",
          "name": "stdout",
          "text": [
            "Class attribute name:  Diagnosis \n",
            "\n"
          ]
        }
      ]
    },
    {
      "cell_type": "markdown",
      "source": [
        "Show all unique values (labels)"
      ],
      "metadata": {
        "id": "ZdcRjEqfKhhN"
      }
    },
    {
      "cell_type": "code",
      "source": [
        "print(\"Possible values in the class attribute:\",df[class_col].unique(), \"\\n\")"
      ],
      "metadata": {
        "colab": {
          "base_uri": "https://localhost:8080/"
        },
        "id": "l2CFbU6CKkKV",
        "outputId": "cf0e2f27-02aa-49a4-e8ea-3231b3a61d9e"
      },
      "execution_count": 47,
      "outputs": [
        {
          "output_type": "stream",
          "name": "stdout",
          "text": [
            "Possible values in the class attribute: [0 1] \n",
            "\n"
          ]
        }
      ]
    },
    {
      "cell_type": "markdown",
      "source": [
        "Show counts for each class"
      ],
      "metadata": {
        "id": "Iaa8bApzKlva"
      }
    },
    {
      "cell_type": "code",
      "source": [
        "print(\"Counts for each class in\",df[class_col].value_counts())\n",
        "print(\"\")"
      ],
      "metadata": {
        "colab": {
          "base_uri": "https://localhost:8080/"
        },
        "id": "Y9w-5ptRKohS",
        "outputId": "78ce68b6-582f-4c87-fae3-8e572ec2c582"
      },
      "execution_count": 48,
      "outputs": [
        {
          "output_type": "stream",
          "name": "stdout",
          "text": [
            "Counts for each class in Diagnosis\n",
            "0    1389\n",
            "1     760\n",
            "Name: count, dtype: int64\n",
            "\n"
          ]
        }
      ]
    },
    {
      "cell_type": "markdown",
      "source": [
        "Sample of the raw dataset"
      ],
      "metadata": {
        "id": "xpc9sPMTKqNv"
      }
    },
    {
      "cell_type": "code",
      "source": [
        "print(\"Sample of the raw dataset:\")\n",
        "print(df.head())"
      ],
      "metadata": {
        "colab": {
          "base_uri": "https://localhost:8080/"
        },
        "id": "oe0mIg0tKur1",
        "outputId": "e11bf336-f5a0-49a4-eaa7-c4ce7cdf284c"
      },
      "execution_count": 49,
      "outputs": [
        {
          "output_type": "stream",
          "name": "stdout",
          "text": [
            "Sample of the raw dataset:\n",
            "   PatientID  Age  Gender  Ethnicity  EducationLevel        BMI  Smoking  \\\n",
            "0       4751   73       0          0               2  22.927749        0   \n",
            "1       4752   89       0          0               0  26.827681        0   \n",
            "2       4753   73       0          3               1  17.795882        0   \n",
            "3       4754   74       1          0               1  33.800817        1   \n",
            "4       4755   89       0          0               0  20.716974        0   \n",
            "\n",
            "   AlcoholConsumption  PhysicalActivity  DietQuality  ...  MemoryComplaints  \\\n",
            "0           13.297218          6.327112     1.347214  ...                 0   \n",
            "1            4.542524          7.619885     0.518767  ...                 0   \n",
            "2           19.555085          7.844988     1.826335  ...                 0   \n",
            "3           12.209266          8.428001     7.435604  ...                 0   \n",
            "4           18.454356          6.310461     0.795498  ...                 0   \n",
            "\n",
            "   BehavioralProblems       ADL  Confusion  Disorientation  \\\n",
            "0                   0  1.725883          0               0   \n",
            "1                   0  2.592424          0               0   \n",
            "2                   0  7.119548          0               1   \n",
            "3                   1  6.481226          0               0   \n",
            "4                   0  0.014691          0               0   \n",
            "\n",
            "   PersonalityChanges  DifficultyCompletingTasks  Forgetfulness  Diagnosis  \\\n",
            "0                   0                          1              0          0   \n",
            "1                   0                          0              1          0   \n",
            "2                   0                          1              0          0   \n",
            "3                   0                          0              0          0   \n",
            "4                   1                          1              0          0   \n",
            "\n",
            "   DoctorInCharge  \n",
            "0       XXXConfid  \n",
            "1       XXXConfid  \n",
            "2       XXXConfid  \n",
            "3       XXXConfid  \n",
            "4       XXXConfid  \n",
            "\n",
            "[5 rows x 35 columns]\n"
          ]
        }
      ]
    }
  ]
}
