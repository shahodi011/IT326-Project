{
  "nbformat": 4,
  "nbformat_minor": 0,
  "metadata": {
    "colab": {
      "provenance": [],
      "include_colab_link": true
    },
    "kernelspec": {
      "name": "python3",
      "display_name": "Python 3"
    },
    "language_info": {
      "name": "python"
    }
  },
  "cells": [
    {
      "cell_type": "markdown",
      "metadata": {
        "id": "view-in-github",
        "colab_type": "text"
      },
      "source": [
        "<a href=\"https://colab.research.google.com/github/shahodi011/IT326-Project/blob/main/Phase1.ipynb\" target=\"_parent\"><img src=\"https://colab.research.google.com/assets/colab-badge.svg\" alt=\"Open In Colab\"/></a>"
      ]
    },
    {
      "cell_type": "markdown",
      "source": [
        "# Phase 1\n",
        "\n",
        "# Project Goal\n",
        "\n",
        "The goal of this project is to apply data mining techniques to classify patients by Alzheimer’s disease stage ,We aim to use clustering to group patients with similar traits and uncover hidden patterns.\n",
        "\n",
        "# Dataset Source\n",
        "The dataset was obtained from Kaggle:  \n",
        "[Alzheimer’s Disease Dataset](https://www.kaggle.com/datasets/rabieelkharoua/alzheimers-disease-dataset)  \n",
        "\n",
        "# Dataset Description\n",
        "\n",
        "to retrieve the dataset info, we need to import it as follows :\n"
      ],
      "metadata": {
        "id": "NaSdo6p8I_uA"
      }
    },
    {
      "cell_type": "code",
      "source": [
        "import pandas as pd\n",
        "df = pd.read_csv(\"alzheimers_disease_data.csv\")\n"
      ],
      "metadata": {
        "id": "F1u5TRMzJQuw"
      },
      "execution_count": null,
      "outputs": []
    },
    {
      "cell_type": "markdown",
      "source": [
        "Now we can easily obtain the dataset info\n",
        "\n",
        "Number and data types of attributes :"
      ],
      "metadata": {
        "id": "vGBKuYw8JU8l"
      }
    },
    {
      "cell_type": "code",
      "source": [
        "attribute_info = pd.DataFrame({\n",
        "    'NameOfAttribute' : df.columns,\n",
        "    'DataType' : df.dtypes.values\n",
        "})\n",
        "print(f\"Attributes with their data types: \\n\")\n",
        "print(attribute_info, \"\\n\")\n",
        "\n",
        "print(\"Number of attributes:\", len(df.columns), \"\\n\")"
      ],
      "metadata": {
        "id": "3j8En0yhKPZP"
      },
      "execution_count": null,
      "outputs": []
    },
    {
      "cell_type": "markdown",
      "source": [
        "Number of objects :"
      ],
      "metadata": {
        "id": "lacEuaxfKRyc"
      }
    },
    {
      "cell_type": "code",
      "source": [
        "print(\"Number of objects: \", len(df),\"\\n\")"
      ],
      "metadata": {
        "id": "lEddGmxLKU4T"
      },
      "execution_count": null,
      "outputs": []
    },
    {
      "cell_type": "markdown",
      "source": [
        "Class attribute information"
      ],
      "metadata": {
        "id": "50GehioEKX3L"
      }
    },
    {
      "cell_type": "code",
      "source": [
        "class_col = \"Diagnosis\"\n",
        "print(\"Class attribute name: \", class_col, \"\\n\")"
      ],
      "metadata": {
        "id": "82e1MI1JKfjA"
      },
      "execution_count": null,
      "outputs": []
    },
    {
      "cell_type": "markdown",
      "source": [
        "Show all unique values (labels)"
      ],
      "metadata": {
        "id": "ZdcRjEqfKhhN"
      }
    },
    {
      "cell_type": "code",
      "source": [
        "print(\"Possible values in the class attribute:\",df[class_col].unique(), \"\\n\")"
      ],
      "metadata": {
        "id": "l2CFbU6CKkKV"
      },
      "execution_count": null,
      "outputs": []
    },
    {
      "cell_type": "markdown",
      "source": [
        "Show counts for each class"
      ],
      "metadata": {
        "id": "Iaa8bApzKlva"
      }
    },
    {
      "cell_type": "code",
      "source": [
        "print(\"Counts for each class in\",df[class_col].value_counts())\n",
        "print(\"\")"
      ],
      "metadata": {
        "id": "Y9w-5ptRKohS"
      },
      "execution_count": null,
      "outputs": []
    },
    {
      "cell_type": "markdown",
      "source": [
        "Sample of the raw dataset"
      ],
      "metadata": {
        "id": "xpc9sPMTKqNv"
      }
    },
    {
      "cell_type": "code",
      "source": [
        "print(\"Sample of the raw dataset:\")\n",
        "print(df.head())"
      ],
      "metadata": {
        "id": "oe0mIg0tKur1"
      },
      "execution_count": null,
      "outputs": []
    }
  ]
}