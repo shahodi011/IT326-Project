{
  "nbformat": 4,
  "nbformat_minor": 0,
  "metadata": {
    "colab": {
      "provenance": [],
      "authorship_tag": "ABX9TyOnq0xN+ao/7Q4slLXkmlew",
      "include_colab_link": true
    },
    "kernelspec": {
      "name": "python3",
      "display_name": "Python 3"
    },
    "language_info": {
      "name": "python"
    }
  },
  "cells": [
    {
      "cell_type": "markdown",
      "metadata": {
        "id": "view-in-github",
        "colab_type": "text"
      },
      "source": [
        "<a href=\"https://colab.research.google.com/github/shahodi011/IT326-Project/blob/main/Phase1.ipynb\" target=\"_parent\"><img src=\"https://colab.research.google.com/assets/colab-badge.svg\" alt=\"Open In Colab\"/></a>"
      ]
    },
    {
      "cell_type": "code",
      "execution_count": null,
      "metadata": {
        "id": "Kt97pfvJFfhb"
      },
      "outputs": [],
      "source": [
        "\n",
        "Project Goal\n",
        "\n",
        "The goal of this project is to apply data mining techniques to classify patients by Alzheimer’s disease stage ,We aim to use clustering to group patients with similar traits and uncover hidden patterns.\n",
        "\n",
        "Dataset Source\n",
        "The dataset was obtained from Kaggle:\n",
        "[Alzheimer’s Disease Dataset](https://www.kaggle.com/datasets/rabieelkharoua/alzheimers-disease-dataset)\n"
      ]
    }
  ]
}